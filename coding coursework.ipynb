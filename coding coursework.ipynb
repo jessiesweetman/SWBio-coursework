{
 "cells": [
  {
   "cell_type": "markdown",
   "metadata": {},
   "source": [
    "Import packages "
   ]
  },
  {
   "cell_type": "code",
   "execution_count": 42,
   "metadata": {},
   "outputs": [],
   "source": [
    "import pandas as pd\n",
    "from pandas import read_csv\n",
    "%matplotlib inline\n",
    "import matplotlib.pyplot as plt\n",
    "import numpy as np"
   ]
  },
  {
   "cell_type": "markdown",
   "metadata": {},
   "source": [
    "Import the hypocotyl data from excel as .csv file using pandas"
   ]
  },
  {
   "cell_type": "code",
   "execution_count": 2,
   "metadata": {},
   "outputs": [
    {
     "data": {
      "text/html": [
       "<div>\n",
       "<style scoped>\n",
       "    .dataframe tbody tr th:only-of-type {\n",
       "        vertical-align: middle;\n",
       "    }\n",
       "\n",
       "    .dataframe tbody tr th {\n",
       "        vertical-align: top;\n",
       "    }\n",
       "\n",
       "    .dataframe thead th {\n",
       "        text-align: right;\n",
       "    }\n",
       "</style>\n",
       "<table border=\"1\" class=\"dataframe\">\n",
       "  <thead>\n",
       "    <tr style=\"text-align: right;\">\n",
       "      <th></th>\n",
       "      <th>Sample 1 WL</th>\n",
       "      <th>Sample 1 DS</th>\n",
       "      <th>Sample 2 WL</th>\n",
       "      <th>Sample 2 DS</th>\n",
       "      <th>Sample 3 WL</th>\n",
       "      <th>Sample 3 DS</th>\n",
       "    </tr>\n",
       "  </thead>\n",
       "  <tbody>\n",
       "    <tr>\n",
       "      <th>0</th>\n",
       "      <td>8.762</td>\n",
       "      <td>4.002</td>\n",
       "      <td>8.395</td>\n",
       "      <td>11.743</td>\n",
       "      <td>8.315</td>\n",
       "      <td>3.749</td>\n",
       "    </tr>\n",
       "    <tr>\n",
       "      <th>1</th>\n",
       "      <td>8.081</td>\n",
       "      <td>3.911</td>\n",
       "      <td>8.460</td>\n",
       "      <td>11.749</td>\n",
       "      <td>8.589</td>\n",
       "      <td>3.728</td>\n",
       "    </tr>\n",
       "    <tr>\n",
       "      <th>2</th>\n",
       "      <td>8.593</td>\n",
       "      <td>3.028</td>\n",
       "      <td>8.495</td>\n",
       "      <td>12.067</td>\n",
       "      <td>8.244</td>\n",
       "      <td>3.750</td>\n",
       "    </tr>\n",
       "    <tr>\n",
       "      <th>3</th>\n",
       "      <td>8.250</td>\n",
       "      <td>3.220</td>\n",
       "      <td>8.471</td>\n",
       "      <td>13.319</td>\n",
       "      <td>8.847</td>\n",
       "      <td>3.905</td>\n",
       "    </tr>\n",
       "    <tr>\n",
       "      <th>4</th>\n",
       "      <td>8.899</td>\n",
       "      <td>3.522</td>\n",
       "      <td>7.458</td>\n",
       "      <td>12.930</td>\n",
       "      <td>8.320</td>\n",
       "      <td>4.109</td>\n",
       "    </tr>\n",
       "  </tbody>\n",
       "</table>\n",
       "</div>"
      ],
      "text/plain": [
       "   Sample 1 WL  Sample 1 DS  Sample 2 WL  Sample 2 DS  Sample 3 WL  \\\n",
       "0        8.762        4.002        8.395       11.743        8.315   \n",
       "1        8.081        3.911        8.460       11.749        8.589   \n",
       "2        8.593        3.028        8.495       12.067        8.244   \n",
       "3        8.250        3.220        8.471       13.319        8.847   \n",
       "4        8.899        3.522        7.458       12.930        8.320   \n",
       "\n",
       "   Sample 3 DS  \n",
       "0        3.749  \n",
       "1        3.728  \n",
       "2        3.750  \n",
       "3        3.905  \n",
       "4        4.109  "
      ]
     },
     "execution_count": 2,
     "metadata": {},
     "output_type": "execute_result"
    }
   ],
   "source": [
    "data = pd.read_csv (r'C:\\Users\\jb16754\\OneDrive - University of Bristol\\Documents\\example hypocotyl length data.csv') #edit as necessary for file location\n",
    "data.head() #each variable should appear in its own column "
   ]
  },
  {
   "cell_type": "markdown",
   "metadata": {},
   "source": [
    "Create list of averages for each variable "
   ]
  },
  {
   "cell_type": "code",
   "execution_count": 3,
   "metadata": {},
   "outputs": [
    {
     "name": "stdout",
     "output_type": "stream",
     "text": [
      "Sample 1 WL     7.981333\n",
      "Sample 1 DS     3.437511\n",
      "Sample 2 WL     7.734717\n",
      "Sample 2 DS    12.187348\n",
      "Sample 3 WL     8.092209\n",
      "Sample 3 DS     3.364973\n",
      "dtype: float64\n"
     ]
    }
   ],
   "source": [
    "averages = data.mean(axis=0)\n",
    "print (averages)"
   ]
  },
  {
   "cell_type": "markdown",
   "metadata": {},
   "source": [
    "Create list of standard deviations for each variable "
   ]
  },
  {
   "cell_type": "code",
   "execution_count": 36,
   "metadata": {},
   "outputs": [
    {
     "name": "stdout",
     "output_type": "stream",
     "text": [
      "Sample 1 WL    0.402688\n",
      "Sample 1 DS    0.271094\n",
      "Sample 2 WL    0.600155\n",
      "Sample 2 DS    1.003413\n",
      "Sample 3 WL    0.474552\n",
      "Sample 3 DS    0.287540\n",
      "dtype: float64\n"
     ]
    }
   ],
   "source": [
    "standard_deviations = data.std()\n",
    "print (standard_deviations)"
   ]
  },
  {
   "cell_type": "markdown",
   "metadata": {},
   "source": [
    "Check data for normal distribution in a histogram prior to statistical analysis"
   ]
  },
  {
   "cell_type": "code",
   "execution_count": 4,
   "metadata": {},
   "outputs": [
    {
     "data": {
      "image/png": "[encoded data removed]",
      "text/plain": [
       "<Figure size 720x1080 with 6 Axes>"
      ]
     },
     "metadata": {
      "needs_background": "light"
     },
     "output_type": "display_data"
    }
   ],
   "source": [
    "histogram = data.hist(figsize=(10,15), grid=False)"
   ]
  },
  {
   "cell_type": "markdown",
   "metadata": {},
   "source": [
    "View and save boxplot of Treatments vs. Hypocotyl length"
   ]
  },
  {
   "cell_type": "code",
   "execution_count": 90,
   "metadata": {},
   "outputs": [
    {
     "data": {
      "image/png": "[encoded data removed]",
      "text/plain": [
       "<Figure size 720x720 with 1 Axes>"
      ]
     },
     "metadata": {
      "needs_background": "light"
     },
     "output_type": "display_data"
    }
   ],
   "source": [
    "boxplot = data.boxplot(figsize=(10,10), grid=False, rot=20, patch_artist=False)\n",
    "#remove unwanted axis lines \n",
    "boxplot.spines['top'].set_visible(False)\n",
    "boxplot.spines['right'].set_visible(False)\n",
    "#set the y axis scale \n",
    "boxplot.set_ylim(0,20)\n",
    "#set the axis headings \n",
    "boxplot.set_xlabel(\"Treatment\")\n",
    "boxplot.set_ylabel(\"Hypocotyl Length (mm)\")\n",
    "#show the boxplot\n",
    "plt.show()\n",
    "#save the boxplot to computer \n",
    "boxplot.plot()\n",
    "fig = boxplot.get_figure()\n",
    "fig.savefig(\"boxplot.png\") #this saves to C:\\Users\\jb16754\\Documents automatically"
   ]
  },
  {
   "cell_type": "code",
   "execution_count": null,
   "metadata": {},
   "outputs": [],
   "source": []
  }
 ],
 "metadata": {
  "kernelspec": {
   "display_name": "Python 3",
   "language": "python",
   "name": "python3"
  },
  "language_info": {
   "codemirror_mode": {
    "name": "ipython",
    "version": 3
   },
   "file_extension": ".py",
   "mimetype": "text/x-python",
   "name": "python",
   "nbconvert_exporter": "python",
   "pygments_lexer": "ipython3",
   "version": "3.7.3"
  }
 },
 "nbformat": 4,
 "nbformat_minor": 2
}
